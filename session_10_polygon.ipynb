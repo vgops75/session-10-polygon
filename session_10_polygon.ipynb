{
 "cells": [
  {
   "cell_type": "code",
   "execution_count": 1,
   "metadata": {
    "id": "ZZumzhnYz703"
   },
   "outputs": [],
   "source": [
    "import math"
   ]
  },
  {
   "cell_type": "code",
   "execution_count": 2,
   "metadata": {
    "id": "ZcoBCYQn0rto"
   },
   "outputs": [],
   "source": [
    "# Regular Convex Polygon Object\n",
    "\n",
    "class Polygon:\n",
    "  '''\n",
    "  This Polygon takes 2 parameters -- number of edges (N) and circum-radius (R), and the related parameters\n",
    "  such as vertices, interior angle, edge length, apothem, area and perimeter are obtained using get methods.\n",
    "  Access to modify by name operator is available only for num_edges and circum_rad, and any such\n",
    "  modifications will reflect accordingly in the dependent parameters accessed by get_{attribute} methods.\n",
    "  '''\n",
    "  \n",
    "  def __init__(self, num_edges=3, circum_rad=6):\n",
    "    self.num_edges = num_edges\n",
    "    self.circum_rad = circum_rad\n",
    "\n",
    "  @property\n",
    "  def get_num_edges(self):\n",
    "    return self.num_edges\n",
    "\n",
    "  @property\n",
    "  def get_circum_rad(self):\n",
    "    return self.circum_rad\n",
    "\n",
    "  @property\n",
    "  def get_vertices(self):\n",
    "    return self.get_num_edges\n",
    "\n",
    "  @property\n",
    "  def get_int_angle(self):\n",
    "    return (self.get_num_edges - 2) * 180 / self.get_num_edges\n",
    "\n",
    "  @property\n",
    "  def get_edge_length(self):\n",
    "    return 2*self.get_circum_rad * math.sin(math.pi / self.get_num_edges)\n",
    "\n",
    "  @property\n",
    "  def get_apothem(self):\n",
    "    return self.get_circum_rad * math.cos(math.pi / self.get_num_edges)\n",
    "\n",
    "  @property\n",
    "  def get_area(self):\n",
    "    return self.get_num_edges * self.get_edge_length * self.get_apothem / 2\n",
    "\n",
    "  @property\n",
    "  def get_perimeter(self):\n",
    "    return self.get_num_edges * self.get_edge_length\n",
    "\n",
    "  def __repr__(self):\n",
    "      return f'Polygon(edges={self.get_num_edges}, rad={self.get_circum_rad})'\n",
    "\n",
    "  def __eq__(self, other):\n",
    "      if isinstance(other, Polygon):\n",
    "          return self.get_vertices == other.get_vertices and self.get_circum_rad == other.get_circum_rad\n",
    "      else:\n",
    "          return False\n",
    "\n",
    "  def __gt__(self, other):\n",
    "      if isinstance(other, Polygon):\n",
    "          return self.get_vertices > other.get_vertices\n",
    "      else:\n",
    "          return False"
   ]
  },
  {
   "cell_type": "code",
   "execution_count": 3,
   "metadata": {
    "id": "F2iTJjfa6Sdf"
   },
   "outputs": [],
   "source": [
    "s1 = Polygon(3, 7)\n",
    "s2 = Polygon(7, 3)"
   ]
  },
  {
   "cell_type": "code",
   "execution_count": 4,
   "metadata": {
    "colab": {
     "base_uri": "https://localhost:8080/"
    },
    "id": "--XVekhVHU5V",
    "outputId": "6cd58c2a-a052-4de6-c4c3-9c48c26a2271"
   },
   "outputs": [
    {
     "data": {
      "text/plain": [
       "(Polygon(edges=3, rad=7), Polygon(edges=7, rad=3))"
      ]
     },
     "execution_count": 4,
     "metadata": {
      "tags": []
     },
     "output_type": "execute_result"
    }
   ],
   "source": [
    "s1, s2 # __repr__ works"
   ]
  },
  {
   "cell_type": "code",
   "execution_count": 5,
   "metadata": {
    "colab": {
     "base_uri": "https://localhost:8080/"
    },
    "id": "Kms9-O68SwRK",
    "outputId": "331ecf9a-0c2f-43e4-8514-0197bba40808"
   },
   "outputs": [
    {
     "data": {
      "text/plain": [
       "False"
      ]
     },
     "execution_count": 5,
     "metadata": {
      "tags": []
     },
     "output_type": "execute_result"
    }
   ],
   "source": [
    "# Checking if equality definition works ...\n",
    "s1 == s2"
   ]
  },
  {
   "cell_type": "code",
   "execution_count": 6,
   "metadata": {
    "id": "17ej2MzuTNll"
   },
   "outputs": [],
   "source": [
    "s1 = Polygon(7, 3) # reassigned to match s2 polygon definition."
   ]
  },
  {
   "cell_type": "code",
   "execution_count": 7,
   "metadata": {
    "colab": {
     "base_uri": "https://localhost:8080/"
    },
    "id": "XLNwxFhISwBb",
    "outputId": "51adb143-6fab-49bc-b3bb-da9f80cdb2a6"
   },
   "outputs": [
    {
     "data": {
      "text/plain": [
       "True"
      ]
     },
     "execution_count": 7,
     "metadata": {
      "tags": []
     },
     "output_type": "execute_result"
    }
   ],
   "source": [
    "s1 == s2"
   ]
  },
  {
   "cell_type": "code",
   "execution_count": 8,
   "metadata": {
    "colab": {
     "base_uri": "https://localhost:8080/"
    },
    "id": "nKNeqAbHTXdo",
    "outputId": "23bda354-3518-4494-af35-cbef5592625d"
   },
   "outputs": [
    {
     "data": {
      "text/plain": [
       "False"
      ]
     },
     "execution_count": 8,
     "metadata": {
      "tags": []
     },
     "output_type": "execute_result"
    }
   ],
   "source": [
    "# Checking if greater than implementation works ...\n",
    "s1 > s2"
   ]
  },
  {
   "cell_type": "code",
   "execution_count": 9,
   "metadata": {
    "id": "oz0jhvwzSvyl"
   },
   "outputs": [],
   "source": [
    "s2 = Polygon(3, 5) # reducing the number of vertices to less than s1's number of vertices"
   ]
  },
  {
   "cell_type": "code",
   "execution_count": 10,
   "metadata": {
    "colab": {
     "base_uri": "https://localhost:8080/"
    },
    "id": "zdw2hY11UWXl",
    "outputId": "336cfde1-02c0-4372-fd42-f03d38d9885a"
   },
   "outputs": [
    {
     "data": {
      "text/plain": [
       "True"
      ]
     },
     "execution_count": 10,
     "metadata": {
      "tags": []
     },
     "output_type": "execute_result"
    }
   ],
   "source": [
    "s1 > s2"
   ]
  },
  {
   "cell_type": "code",
   "execution_count": 11,
   "metadata": {
    "id": "ppn0da6DUolR"
   },
   "outputs": [],
   "source": [
    "s1 = Polygon(3, 5)"
   ]
  },
  {
   "cell_type": "code",
   "execution_count": 12,
   "metadata": {
    "colab": {
     "base_uri": "https://localhost:8080/"
    },
    "id": "KIKFanGiBofE",
    "outputId": "dab402f0-acd0-4215-f49d-a99afcb64e23"
   },
   "outputs": [
    {
     "name": "stdout",
     "output_type": "stream",
     "text": [
      "Before changing num_edges and circum_rad, num_edges=3 and circum_rad=5\n",
      "vertices = 3\n",
      "int_angle = 60.0\n",
      "edge_length = 8.660254037844386\n",
      "apothem = 2.5000000000000004\n",
      "area = 32.47595264191645\n",
      "perimeter = 25.980762113533157\n"
     ]
    }
   ],
   "source": [
    "print(f'Before changing num_edges and circum_rad, num_edges={s1.get_num_edges} and circum_rad={s1.get_circum_rad}')\n",
    "print(f'vertices = {s1.get_vertices}')\n",
    "print(f'int_angle = {s1.get_int_angle}')\n",
    "print(f'edge_length = {s1.get_edge_length}')\n",
    "print(f'apothem = {s1.get_apothem}')\n",
    "print(f'area = {s1.get_area}')\n",
    "print(f'perimeter = {s1.get_perimeter}')"
   ]
  },
  {
   "cell_type": "markdown",
   "metadata": {
    "id": "EKYzni3kWDTd"
   },
   "source": []
  },
  {
   "cell_type": "code",
   "execution_count": 13,
   "metadata": {
    "id": "8WUoM-GgFDQQ"
   },
   "outputs": [],
   "source": [
    "s1.num_edges = 5"
   ]
  },
  {
   "cell_type": "code",
   "execution_count": 14,
   "metadata": {
    "colab": {
     "base_uri": "https://localhost:8080/"
    },
    "id": "TXz877zD-gWp",
    "outputId": "8b406a03-d1df-4399-8e38-1a6df54e259a"
   },
   "outputs": [
    {
     "name": "stdout",
     "output_type": "stream",
     "text": [
      "After changing num_edges only, num_edges=5 and circum_rad=5\n",
      "vertices = 5\n",
      "int_angle = 108.0\n",
      "edge_length = 5.877852522924732\n",
      "apothem = 4.045084971874737\n",
      "area = 59.44103226844711\n",
      "perimeter = 29.38926261462366\n"
     ]
    }
   ],
   "source": [
    "print(f'After changing num_edges only, num_edges={s1.get_num_edges} and circum_rad={s1.get_circum_rad}')\n",
    "print(f'vertices = {s1.get_vertices}')\n",
    "print(f'int_angle = {s1.get_int_angle}')\n",
    "print(f'edge_length = {s1.get_edge_length}')\n",
    "print(f'apothem = {s1.get_apothem}')\n",
    "print(f'area = {s1.get_area}')\n",
    "print(f'perimeter = {s1.get_perimeter}')"
   ]
  },
  {
   "cell_type": "code",
   "execution_count": 15,
   "metadata": {
    "id": "Yr0dTb4-6XjP"
   },
   "outputs": [],
   "source": [
    "s1.circum_rad = 10"
   ]
  },
  {
   "cell_type": "code",
   "execution_count": 16,
   "metadata": {
    "colab": {
     "base_uri": "https://localhost:8080/"
    },
    "id": "R4xmvCkoBkAR",
    "outputId": "0099631b-c34d-4960-87fc-a8718b0d9b1e"
   },
   "outputs": [
    {
     "name": "stdout",
     "output_type": "stream",
     "text": [
      "After changing num_edges and circum_rad, num_edges=5 and circum_rad=10\n",
      "vertices = 5\n",
      "int_angle = 108.0\n",
      "edge_length = 11.755705045849464\n",
      "apothem = 8.090169943749475\n",
      "area = 237.76412907378844\n",
      "perimeter = 58.77852522924732\n"
     ]
    }
   ],
   "source": [
    "print(f'After changing num_edges and circum_rad, num_edges={s1.get_num_edges} and circum_rad={s1.get_circum_rad}')\n",
    "print(f'vertices = {s1.get_vertices}')\n",
    "print(f'int_angle = {s1.get_int_angle}')\n",
    "print(f'edge_length = {s1.get_edge_length}')\n",
    "print(f'apothem = {s1.get_apothem}')\n",
    "print(f'area = {s1.get_area}')\n",
    "print(f'perimeter = {s1.get_perimeter}')"
   ]
  },
  {
   "cell_type": "code",
   "execution_count": 17,
   "metadata": {
    "id": "Qk3itTfsYhZm"
   },
   "outputs": [],
   "source": [
    "# Going back to original configuration\n",
    "s1.num_edges = 3\n",
    "s1.circum_rad = 5"
   ]
  },
  {
   "cell_type": "code",
   "execution_count": 18,
   "metadata": {
    "colab": {
     "base_uri": "https://localhost:8080/"
    },
    "id": "bMPXkFTGYKv1",
    "outputId": "601763d5-448a-4b20-a131-dd9769382d40"
   },
   "outputs": [
    {
     "name": "stdout",
     "output_type": "stream",
     "text": [
      "Reverting to original configuration, num_edges and circum_rad, num_edges=3 and circum_rad=5\n",
      "vertices = 3\n",
      "int_angle = 60.0\n",
      "edge_length = 8.660254037844386\n",
      "apothem = 2.5000000000000004\n",
      "area = 32.47595264191645\n",
      "perimeter = 25.980762113533157\n"
     ]
    }
   ],
   "source": [
    "print(f'Reverting to original configuration, num_edges and circum_rad, num_edges={s1.get_num_edges} and circum_rad={s1.get_circum_rad}')\n",
    "print(f'vertices = {s1.get_vertices}')\n",
    "print(f'int_angle = {s1.get_int_angle}')\n",
    "print(f'edge_length = {s1.get_edge_length}')\n",
    "print(f'apothem = {s1.get_apothem}')\n",
    "print(f'area = {s1.get_area}')\n",
    "print(f'perimeter = {s1.get_perimeter}')"
   ]
  },
  {
   "cell_type": "code",
   "execution_count": 2,
   "metadata": {
    "id": "xpnGPtz6ZVm3"
   },
   "outputs": [],
   "source": [
    "class SequencePolygon:\n",
    "  '''\n",
    "  This class takes in number of vertices for the largest polygon in the sequence. Currently the sequence type is chosen as list,\n",
    "  but it can be changed later, if required. The SequencePolygon class also takes in a circum_radius and it is assumed to be common\n",
    "  for all of the polygons in the sequence.\n",
    "  '''\n",
    "\n",
    "  def __init__(self, num_vertices=4, circum_rad=5):\n",
    "    self._num_vertices = num_vertices\n",
    "    self._circum_rad = circum_rad\n",
    "    # self.seq_list = [item for item in range(3, self.num_vertices + 1)]\n",
    "\n",
    "  @property\n",
    "  def get_seq_list(self):\n",
    "    return [item for item in range(3, self._num_vertices + 1)]\n",
    "\n",
    "  @property\n",
    "  def get_num_edges(self):\n",
    "    return self.get_seq_list\n",
    "\n",
    "  @property\n",
    "  def get_circum_rad(self):\n",
    "    return self._circum_rad\n",
    "\n",
    "  @property\n",
    "  def __setitem__(self, index, value):\n",
    "    self._num_vertices[index] = value\n",
    "  \n",
    "  @property\n",
    "  def __getitem__(self, index):\n",
    "    return self._num_vertices[index]\n",
    "\n",
    "  @property\n",
    "  def get_vertices(self):\n",
    "    return self.get_seq_list\n",
    "\n",
    "  @property\n",
    "  def get_int_angle(self):\n",
    "    int_angle = [(num_edges - 2) * 180 / num_edges for num_edges in self.get_num_edges]\n",
    "    return int_angle\n",
    "\n",
    "  @property\n",
    "  def get_edge_length(self):\n",
    "    edge_length = [2 * self._circum_rad * math.sin(math.pi / num_edges) for num_edges in self.get_num_edges]\n",
    "    return edge_length\n",
    "  \n",
    "  @property\n",
    "  def get_apothem(self):\n",
    "    apothem = [self._circum_rad * math.cos(math.pi / num_edges) for num_edges in self.get_num_edges]\n",
    "    return apothem\n",
    "\n",
    "  @property\n",
    "  def get_area(self):\n",
    "    area = [(num_edges * edge_length * apothem / 2) for num_edges, edge_length, apothem in zip(self.get_num_edges, self.get_edge_length, self.get_apothem)]\n",
    "    return area\n",
    "\n",
    "  @property\n",
    "  def get_perimeter(self):\n",
    "    perimeter = [num_edges * edge_length for num_edges, edge_length in zip(self.get_num_edges, self.get_edge_length)]\n",
    "    return perimeter\n",
    "\n",
    "  def __len__(self):\n",
    "    return len(self.get_seq_list) \n",
    "\n",
    "  @property\n",
    "  def max_efficiency_polygon(self):\n",
    "    ratio = [area / perimeter for area, perimeter in zip(self.get_area, self.get_perimeter)]\n",
    "    max_index = ratio.index(max(ratio))\n",
    "    # print(f'Polygon with max efficiency is Polygon(num_edges={max_index+3}, circum_rad={self._circum_rad})')\n",
    "    return f'Polygon(num_edges={max_index+3}, circum_rad={self._circum_rad}) is max efficient with area to perimeter ratio of {round(max(ratio), 3)}'\n",
    "\n",
    "  def __repr__(self):\n",
    "    return f'SequencePolygon(seq_num_edges=range(3, {self._num_vertices+1}), circum_rad={self._circum_rad})'"
   ]
  },
  {
   "cell_type": "code",
   "execution_count": 20,
   "metadata": {
    "id": "e_8U8Rr_gIyV"
   },
   "outputs": [],
   "source": [
    "p1 = SequencePolygon(7, 5)"
   ]
  },
  {
   "cell_type": "code",
   "execution_count": 21,
   "metadata": {
    "colab": {
     "base_uri": "https://localhost:8080/"
    },
    "id": "dTOUAbo4gZjR",
    "outputId": "25b06eeb-2b91-44ef-a421-0c048de70cf3"
   },
   "outputs": [
    {
     "data": {
      "text/plain": [
       "([3, 4, 5, 6, 7], 5, [60.0, 90.0, 108.0, 120.0, 128.57142857142858])"
      ]
     },
     "execution_count": 21,
     "metadata": {
      "tags": []
     },
     "output_type": "execute_result"
    }
   ],
   "source": [
    "p1.get_num_edges, p1.get_circum_rad, p1.get_int_angle"
   ]
  },
  {
   "cell_type": "code",
   "execution_count": 22,
   "metadata": {
    "colab": {
     "base_uri": "https://localhost:8080/"
    },
    "id": "-kHQU-LKxZHa",
    "outputId": "2773d327-6805-4458-ece5-f00bb4b014fb"
   },
   "outputs": [
    {
     "data": {
      "text/plain": [
       "([8.660254037844386,\n",
       "  7.071067811865475,\n",
       "  5.877852522924732,\n",
       "  4.999999999999999,\n",
       "  4.3388373911755815],\n",
       " [2.5000000000000004,\n",
       "  3.5355339059327378,\n",
       "  4.045084971874737,\n",
       "  4.330127018922194,\n",
       "  4.504844339512096],\n",
       " [64.9519052838329,\n",
       "  100.0,\n",
       "  118.88206453689422,\n",
       "  129.90381056766577,\n",
       "  136.82050943190524],\n",
       " [25.980762113533157,\n",
       "  28.2842712474619,\n",
       "  29.38926261462366,\n",
       "  29.999999999999993,\n",
       "  30.37186173822907])"
      ]
     },
     "execution_count": 22,
     "metadata": {
      "tags": []
     },
     "output_type": "execute_result"
    }
   ],
   "source": [
    "p1.get_edge_length, p1.get_apothem, p1.get_area, p1.get_perimeter"
   ]
  },
  {
   "cell_type": "code",
   "execution_count": 23,
   "metadata": {
    "colab": {
     "base_uri": "https://localhost:8080/",
     "height": 35
    },
    "id": "uMUl1MyWx0Kj",
    "outputId": "e21dbf53-b6a1-4d47-b969-144e707b191e"
   },
   "outputs": [
    {
     "data": {
      "application/vnd.google.colaboratory.intrinsic+json": {
       "type": "string"
      },
      "text/plain": [
       "'Polygon(num_edges=7, circum_rad=5) is max efficient with area to perimeter ratio of 4.505'"
      ]
     },
     "execution_count": 23,
     "metadata": {
      "tags": []
     },
     "output_type": "execute_result"
    }
   ],
   "source": [
    "p1.max_efficiency_polygon"
   ]
  },
  {
   "cell_type": "code",
   "execution_count": 3,
   "metadata": {
    "id": "gZKOum_SKY-9"
   },
   "outputs": [],
   "source": [
    "p2 = SequencePolygon(25, 5)"
   ]
  },
  {
   "cell_type": "code",
   "execution_count": 4,
   "metadata": {},
   "outputs": [
    {
     "name": "stdout",
     "output_type": "stream",
     "text": [
      "Printing the last of SequencePolygon, num_edges = 25 and circum_rad = 5\n",
      "num_edges=25 and circum_rad=5\n",
      "vertices = 25\n",
      "int_angle = 165.6\n",
      "edge_length = 1.2533323356430426\n",
      "apothem = 4.9605735065723895\n",
      "area = 77.71558973901713\n",
      "perimeter = 31.333308391076066\n"
     ]
    }
   ],
   "source": [
    "print(f'Printing the last of SequencePolygon, num_edges = 25 and circum_rad = 5')\n",
    "print(f'num_edges={p2.get_num_edges[-1]} and circum_rad={p2.get_circum_rad}')\n",
    "print(f'vertices = {p2.get_vertices[-1]}')\n",
    "print(f'int_angle = {p2.get_int_angle[-1]}')\n",
    "print(f'edge_length = {p2.get_edge_length[-1]}')\n",
    "print(f'apothem = {p2.get_apothem[-1]}')\n",
    "print(f'area = {p2.get_area[-1]}')\n",
    "print(f'perimeter = {p2.get_perimeter[-1]}')"
   ]
  },
  {
   "cell_type": "code",
   "execution_count": 5,
   "metadata": {
    "colab": {
     "base_uri": "https://localhost:8080/",
     "height": 35
    },
    "id": "BfzzHmaZB1zM",
    "outputId": "d812fd53-e91a-466e-af86-edb93357e755"
   },
   "outputs": [
    {
     "data": {
      "text/plain": [
       "'Polygon(num_edges=25, circum_rad=5) is max efficient with area to perimeter ratio of 2.48'"
      ]
     },
     "execution_count": 5,
     "metadata": {},
     "output_type": "execute_result"
    }
   ],
   "source": [
    "p2.max_efficiency_polygon"
   ]
  },
  {
   "cell_type": "code",
   "execution_count": 6,
   "metadata": {
    "colab": {
     "base_uri": "https://localhost:8080/"
    },
    "id": "F4l8GW52FGF7",
    "outputId": "1b99f4c8-e169-4433-9704-78b677728d8e"
   },
   "outputs": [
    {
     "data": {
      "text/plain": [
       "23"
      ]
     },
     "execution_count": 6,
     "metadata": {},
     "output_type": "execute_result"
    }
   ],
   "source": [
    "len(p2)"
   ]
  }
 ],
 "metadata": {
  "colab": {
   "collapsed_sections": [],
   "name": "session 10 - polygon.ipynb",
   "provenance": []
  },
  "kernelspec": {
   "display_name": "Python 3",
   "language": "python",
   "name": "python3"
  },
  "language_info": {
   "codemirror_mode": {
    "name": "ipython",
    "version": 3
   },
   "file_extension": ".py",
   "mimetype": "text/x-python",
   "name": "python",
   "nbconvert_exporter": "python",
   "pygments_lexer": "ipython3",
   "version": "3.7.7"
  }
 },
 "nbformat": 4,
 "nbformat_minor": 4
}
