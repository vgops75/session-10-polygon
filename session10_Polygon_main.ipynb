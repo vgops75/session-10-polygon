{
  "nbformat": 4,
  "nbformat_minor": 0,
  "metadata": {
    "colab": {
      "name": "session10_Polygon_main.ipynb",
      "provenance": [],
      "collapsed_sections": []
    },
    "kernelspec": {
      "name": "python3",
      "display_name": "Python 3"
    },
    "language_info": {
      "name": "python"
    }
  },
  "cells": [
    {
      "cell_type": "code",
      "metadata": {
        "id": "Ij-znXeBFXuM",
        "colab": {
          "base_uri": "https://localhost:8080/"
        },
        "outputId": "f9445958-b4e1-4ba4-abdf-f285e705302f"
      },
      "source": [
        "from google.colab import drive\n",
        "drive.mount('/content/gdrive')"
      ],
      "execution_count": null,
      "outputs": [
        {
          "output_type": "stream",
          "text": [
            "Mounted at /content/gdrive\n"
          ],
          "name": "stdout"
        }
      ]
    },
    {
      "cell_type": "code",
      "metadata": {
        "id": "BZnOYo--GKcV"
      },
      "source": [
        "!cp '/content/gdrive/My Drive/classPolygon.py' /content/\n",
        "!cp '/content/gdrive/My Drive/sequencePolygon.py' /content/"
      ],
      "execution_count": null,
      "outputs": []
    },
    {
      "cell_type": "code",
      "metadata": {
        "id": "N_pN7ikNGcl2"
      },
      "source": [
        "import math\n",
        "import classPolygon\n",
        "import sequencePolygon"
      ],
      "execution_count": null,
      "outputs": []
    },
    {
      "cell_type": "code",
      "metadata": {
        "id": "Cr4ZO5CgGjAl"
      },
      "source": [
        "p1 = classPolygon.Polygon(3, 5)"
      ],
      "execution_count": null,
      "outputs": []
    },
    {
      "cell_type": "code",
      "metadata": {
        "id": "RwgKarR_HQr1"
      },
      "source": [
        "p2 = classPolygon.Polygon(3, 5)"
      ],
      "execution_count": null,
      "outputs": []
    },
    {
      "cell_type": "code",
      "metadata": {
        "colab": {
          "base_uri": "https://localhost:8080/"
        },
        "id": "Fn1m_xGwHWUv",
        "outputId": "e60e4c1f-9153-4073-b6cc-4e80167cb08a"
      },
      "source": [
        "# Both p1 and p2 have same class characteristics but they are different\n",
        "id(p1) == id(p2)"
      ],
      "execution_count": null,
      "outputs": [
        {
          "output_type": "execute_result",
          "data": {
            "text/plain": [
              "False"
            ]
          },
          "metadata": {
            "tags": []
          },
          "execution_count": 6
        }
      ]
    },
    {
      "cell_type": "code",
      "metadata": {
        "colab": {
          "base_uri": "https://localhost:8080/"
        },
        "id": "a9zUDjIGHn91",
        "outputId": "2b6b6969-6950-4e45-a0e2-70f917c6144d"
      },
      "source": [
        "# Checks the equality condition defined for polygon class\n",
        "p1 == p2"
      ],
      "execution_count": null,
      "outputs": [
        {
          "output_type": "execute_result",
          "data": {
            "text/plain": [
              "True"
            ]
          },
          "metadata": {
            "tags": []
          },
          "execution_count": 7
        }
      ]
    },
    {
      "cell_type": "code",
      "metadata": {
        "colab": {
          "base_uri": "https://localhost:8080/"
        },
        "id": "tYYwgEw-H5pT",
        "outputId": "e4e2a86f-7654-4344-f37a-6e1bbb3cdaa5"
      },
      "source": [
        "# Checks the inequality (greater condition only) condition defined for polygon classes\n",
        "p1 > p2"
      ],
      "execution_count": null,
      "outputs": [
        {
          "output_type": "execute_result",
          "data": {
            "text/plain": [
              "False"
            ]
          },
          "metadata": {
            "tags": []
          },
          "execution_count": 8
        }
      ]
    },
    {
      "cell_type": "code",
      "metadata": {
        "id": "_9r0Oy80INcj"
      },
      "source": [
        "p1 = classPolygon.Polygon(7, 5)"
      ],
      "execution_count": null,
      "outputs": []
    },
    {
      "cell_type": "code",
      "metadata": {
        "id": "n7qHXDimIWg6"
      },
      "source": [
        "p1, p2"
      ],
      "execution_count": null,
      "outputs": []
    },
    {
      "cell_type": "code",
      "metadata": {
        "colab": {
          "base_uri": "https://localhost:8080/"
        },
        "id": "oiVhMWIsIYnF",
        "outputId": "8d5b7c8c-556e-4bbe-bf94-6deb42d34de1"
      },
      "source": [
        "# Checks the inqueality condition again ...\n",
        "p1 > p2"
      ],
      "execution_count": null,
      "outputs": [
        {
          "output_type": "execute_result",
          "data": {
            "text/plain": [
              "True"
            ]
          },
          "metadata": {
            "tags": []
          },
          "execution_count": 10
        }
      ]
    },
    {
      "cell_type": "code",
      "metadata": {
        "colab": {
          "base_uri": "https://localhost:8080/"
        },
        "id": "IWZ7sgiCIiiB",
        "outputId": "2f461263-b659-4f07-9d3c-74a36e206827"
      },
      "source": [
        "print(f'Before changing num_edges and circum_rad, num_edges={p1.get_num_edges} and circum_rad={p1.get_circum_rad}')\n",
        "print(f'vertices = {p1.get_vertices}')\n",
        "print(f'int_angle = {round(p1.get_int_angle, 3)}')\n",
        "print(f'edge_length = {round(p1.get_edge_length, 3)}')\n",
        "print(f'apothem = {round(p1.get_apothem, 3)}')\n",
        "print(f'area = {round(p1.get_area, 3)}')\n",
        "print(f'perimeter = {round(p1.get_perimeter, 3)}')"
      ],
      "execution_count": null,
      "outputs": [
        {
          "output_type": "stream",
          "text": [
            "Before changing num_edges and circum_rad, num_edges=7 and circum_rad=5\n",
            "vertices = 7\n",
            "int_angle = 128.571\n",
            "edge_length = 4.339\n",
            "apothem = 4.505\n",
            "area = 68.41\n",
            "perimeter = 30.372\n"
          ],
          "name": "stdout"
        }
      ]
    },
    {
      "cell_type": "code",
      "metadata": {
        "id": "1TrEdW-ZK4se"
      },
      "source": [
        "p1 = classPolygon.Polygon(25, 5)"
      ],
      "execution_count": null,
      "outputs": []
    },
    {
      "cell_type": "code",
      "metadata": {
        "colab": {
          "base_uri": "https://localhost:8080/"
        },
        "id": "KoYyx28qKsar",
        "outputId": "a0751336-40b7-4c05-e8b0-6997d4421bda"
      },
      "source": [
        "print(f'After changing num_edges only, num_edges={p1.get_num_edges} and circum_rad={p1.get_circum_rad}')\n",
        "print(f'vertices = {p1.get_vertices}')\n",
        "print(f'int_angle = {round(p1.get_int_angle, 3)}')\n",
        "print(f'edge_length = {round(p1.get_edge_length, 3)}')\n",
        "print(f'apothem = {round(p1.get_apothem, 3)}')\n",
        "print(f'area = {round(p1.get_area, 3)}')\n",
        "print(f'perimeter = {round(p1.get_perimeter, 3)}')"
      ],
      "execution_count": null,
      "outputs": [
        {
          "output_type": "stream",
          "text": [
            "After changing num_edges only, num_edges=25 and circum_rad=5\n",
            "vertices = 25\n",
            "int_angle = 165.6\n",
            "edge_length = 1.253\n",
            "apothem = 4.961\n",
            "area = 77.716\n",
            "perimeter = 31.333\n"
          ],
          "name": "stdout"
        }
      ]
    },
    {
      "cell_type": "markdown",
      "metadata": {
        "id": "sqFvgFQeLz4N"
      },
      "source": [
        "#### Let's keep the above details in memory so we can check if these details checks good with the results obtained for SequencePolygon"
      ]
    },
    {
      "cell_type": "code",
      "metadata": {
        "id": "OXpehkkWLLPH"
      },
      "source": [
        "s1 = sequencePolygon.SequencePolygon(25, 5)"
      ],
      "execution_count": null,
      "outputs": []
    },
    {
      "cell_type": "code",
      "metadata": {
        "colab": {
          "base_uri": "https://localhost:8080/"
        },
        "id": "GpLFaaQCMcZi",
        "outputId": "bc64629d-0732-49f7-9309-299ba80a2738"
      },
      "source": [
        "s1 # the repr() should show that the starting num_edges to be 3"
      ],
      "execution_count": null,
      "outputs": [
        {
          "output_type": "execute_result",
          "data": {
            "text/plain": [
              "SequencePolygon(seq_num_edges=range(3, 26), circum_rad=5)"
            ]
          },
          "metadata": {
            "tags": []
          },
          "execution_count": 16
        }
      ]
    },
    {
      "cell_type": "code",
      "metadata": {
        "colab": {
          "base_uri": "https://localhost:8080/"
        },
        "id": "f27cr6B-MrcC",
        "outputId": "1dd98047-036b-4003-d8b0-8497495265fa"
      },
      "source": [
        "print(f'Printing the last of SequencePolygon, num_edges = 25 and circum_rad = 5')\n",
        "print(f'num_edges={s1.get_num_edges[-1]} and circum_rad={s1.get_circum_rad}')\n",
        "print(f'vertices = {s1.get_vertices[-1]}')\n",
        "print(f'int_angle = {s1.get_int_angle[-1]}')\n",
        "print(f'edge_length = {s1.get_edge_length[-1]}')\n",
        "print(f'apothem = {s1.get_apothem[-1]}')\n",
        "print(f'area = {s1.get_area[-1]}')\n",
        "print(f'perimeter = {s1.get_perimeter[-1]}')"
      ],
      "execution_count": null,
      "outputs": [
        {
          "output_type": "stream",
          "text": [
            "Printing the last of SequencePolygon, num_edges = 25 and circum_rad = 5\n",
            "num_edges=25 and circum_rad=5\n",
            "vertices = 25\n",
            "int_angle = 165.6\n",
            "edge_length = 1.2533323356430426\n",
            "apothem = 4.9605735065723895\n",
            "area = 77.71558973901713\n",
            "perimeter = 31.333308391076066\n"
          ],
          "name": "stdout"
        }
      ]
    },
    {
      "cell_type": "code",
      "metadata": {
        "colab": {
          "base_uri": "https://localhost:8080/"
        },
        "id": "Z-hMrbbpPVFs",
        "outputId": "e74f31c2-ff35-4cef-d84c-e2855b25eef6"
      },
      "source": [
        "# Checks for the len() function on object\n",
        "len(s1)\n",
        "# Actually the len is not checking for the length of the s1 but it is checking for the length of the\n",
        "# sequence."
      ],
      "execution_count": 20,
      "outputs": [
        {
          "output_type": "execute_result",
          "data": {
            "text/plain": [
              "23"
            ]
          },
          "metadata": {
            "tags": []
          },
          "execution_count": 20
        }
      ]
    },
    {
      "cell_type": "code",
      "metadata": {
        "colab": {
          "base_uri": "https://localhost:8080/",
          "height": 35
        },
        "id": "SLIj30nKQDWn",
        "outputId": "53e9627c-084d-424e-d9bb-ae2631d56679"
      },
      "source": [
        "s1.max_efficiency_polygon"
      ],
      "execution_count": 21,
      "outputs": [
        {
          "output_type": "execute_result",
          "data": {
            "application/vnd.google.colaboratory.intrinsic+json": {
              "type": "string"
            },
            "text/plain": [
              "'Polygon(num_edges=25, circum_rad=5) is max efficient with area to perimeter ratio of 2.48'"
            ]
          },
          "metadata": {
            "tags": []
          },
          "execution_count": 21
        }
      ]
    }
  ]
}